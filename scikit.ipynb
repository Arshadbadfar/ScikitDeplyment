{
  "cells": [
    {
      "cell_type": "markdown",
      "metadata": {
        "id": "view-in-github",
        "colab_type": "text"
      },
      "source": [
        "<a href=\"https://colab.research.google.com/github/Arshadbadfar/ScikitDeplyment/blob/main/scikit.ipynb\" target=\"_parent\"><img src=\"https://colab.research.google.com/assets/colab-badge.svg\" alt=\"Open In Colab\"/></a>"
      ]
    },
    {
      "cell_type": "markdown",
      "source": [
        "## Libraries"
      ],
      "metadata": {
        "id": "fBAazaEjMMMV"
      },
      "id": "fBAazaEjMMMV"
    },
    {
      "cell_type": "code",
      "execution_count": null,
      "id": "7ea36cfc",
      "metadata": {
        "id": "7ea36cfc"
      },
      "outputs": [],
      "source": [
        "import time\n",
        "import os\n",
        "import boto3\n",
        "import botocore\n",
        "import re\n",
        "import json\n",
        "from datetime import datetime, timedelta, timezone\n",
        "from sagemaker import get_execution_role, session\n",
        "from sagemaker.s3 import S3Downloader, S3Uploader\n",
        "from sagemaker.estimator import Estimator\n",
        "from time import gmtime, strftime\n",
        "import sagemaker\n",
        "\n",
        "import numpy as np\n",
        "import argparse\n",
        "from sklearn.preprocessing import MinMaxScaler\n",
        "import pickle\n",
        "import joblib\n",
        "import tarfile\n",
        "import subprocess\n",
        "\n",
        "\n",
        "from sagemaker.serializers import JSONSerializer\n",
        "from sagemaker.deserializers import JSONDeserializer\n",
        "\n",
        "import requests\n",
        "import warnings\n"
      ]
    },
    {
      "cell_type": "markdown",
      "source": [
        "## CodeS\n"
      ],
      "metadata": {
        "id": "I3w3Dk_PMWf3"
      },
      "id": "I3w3Dk_PMWf3"
    },
    {
      "cell_type": "code",
      "execution_count": null,
      "id": "541349ab",
      "metadata": {
        "id": "541349ab"
      },
      "outputs": [],
      "source": [
        "warnings.filterwarnings('ignore')"
      ]
    },
    {
      "cell_type": "code",
      "execution_count": null,
      "id": "d5bee2cc",
      "metadata": {
        "id": "d5bee2cc"
      },
      "outputs": [],
      "source": [
        "%matplotlib inline\n",
        "\n",
        "region = boto3.Session().region_name\n",
        "\n",
        "# You can use a different IAM role with \"SageMakerFullAccess\" policy for this notebook\n",
        "role = get_execution_role()\n",
        "print(f\"Execution role: {role}\")\n",
        "\n",
        "sm_session = session.Session(boto3.Session())\n",
        "sm = boto3.Session().client(\"sagemaker\")\n",
        "sm_runtime = boto3.Session().client(\"sagemaker-runtime\")\n",
        "\n",
        "# has the s3:PutObject permissions. This is the bucket into which the model artifacts will be uploaded\n",
        "bucket = sm_session.default_bucket()\n",
        "\n",
        "print(bucket)"
      ]
    },
    {
      "cell_type": "code",
      "execution_count": null,
      "id": "f408349b",
      "metadata": {
        "id": "f408349b"
      },
      "outputs": [],
      "source": [
        "#Setup\n",
        "client = boto3.client(service_name=\"sagemaker\")\n",
        "runtime = boto3.client(service_name=\"sagemaker-runtime\")\n",
        "boto_session = boto3.session.Session()\n",
        "s3 = boto_session.resource('s3')\n",
        "region = boto_session.region_name\n",
        "print(region)\n",
        "sagemaker_session = sagemaker.Session()"
      ]
    },
    {
      "cell_type": "code",
      "execution_count": null,
      "id": "c9b8936c",
      "metadata": {
        "id": "c9b8936c"
      },
      "outputs": [],
      "source": [
        "#Build tar file with model data + inference code\n",
        "bashCommand = \"tar -cvpzf model.tar.gz model.joblib inference.py\"\n",
        "process = subprocess.Popen(bashCommand.split(), stdout=subprocess.PIPE)\n",
        "output, error = process.communicate()"
      ]
    },
    {
      "cell_type": "code",
      "execution_count": null,
      "id": "f6cb2a21",
      "metadata": {
        "id": "f6cb2a21"
      },
      "outputs": [],
      "source": [
        "#Upload tar.gz to bucket\n",
        "model_artifacts = f\"s3://{bucket}/model.tar.gz\"\n",
        "response = s3.meta.client.upload_file('model.tar.gz', bucket, 'model.tar.gz')"
      ]
    },
    {
      "cell_type": "code",
      "execution_count": null,
      "id": "3f2a9e32",
      "metadata": {
        "id": "3f2a9e32"
      },
      "outputs": [],
      "source": [
        "image_uri = sagemaker.image_uris.retrieve(\n",
        "    framework=\"sklearn\",\n",
        "    region=region,\n",
        "    version=\"1.2-1\",\n",
        "    py_version=\"py3\",\n",
        "    instance_type=\"ml.m5.xlarge\",\n",
        ")"
      ]
    },
    {
      "cell_type": "code",
      "execution_count": null,
      "id": "1900d061",
      "metadata": {
        "id": "1900d061"
      },
      "outputs": [],
      "source": [
        "model_name = \"sklearn-test\" + strftime(\"%Y-%m-%d-%H-%M-%S\", gmtime())\n",
        "print(\"Model name: \" + model_name)\n",
        "create_model_response = client.create_model(\n",
        "    ModelName=model_name,\n",
        "    Containers=[\n",
        "        {\n",
        "            \"Image\": image_uri,\n",
        "            \"Mode\": \"SingleModel\",\n",
        "            \"ModelDataUrl\": model_artifacts,\n",
        "            \"Environment\": {'SAGEMAKER_SUBMIT_DIRECTORY': model_artifacts,\n",
        "                           'SAGEMAKER_PROGRAM': 'inference.py'}\n",
        "        }\n",
        "    ],\n",
        "    ExecutionRoleArn=role,\n",
        ")\n",
        "print(\"Model Arn: \" + create_model_response[\"ModelArn\"])\n",
        "\n",
        "sklearn_epc_name = \"sklearn-epc\" + strftime(\"%Y-%m-%d-%H-%M-%S\", gmtime())\n",
        "endpoint_config_response = client.create_endpoint_config(\n",
        "    EndpointConfigName=sklearn_epc_name,\n",
        "    ProductionVariants=[\n",
        "        {\n",
        "            \"VariantName\": \"sklearnvariant\",\n",
        "            \"ModelName\": model_name,\n",
        "            \"InstanceType\": \"ml.c5.large\",\n",
        "            \"InitialInstanceCount\": 1\n",
        "        },\n",
        "    ],\n",
        ")\n",
        "print(\"Endpoint Configuration Arn: \" + endpoint_config_response[\"EndpointConfigArn\"])\n",
        "\n",
        "endpoint_name = \"sklearn-local-ep\" + strftime(\"%Y-%m-%d-%H-%M-%S\", gmtime())\n",
        "create_endpoint_response = client.create_endpoint(\n",
        "    EndpointName=endpoint_name,\n",
        "    EndpointConfigName=sklearn_epc_name,\n",
        ")"
      ]
    },
    {
      "cell_type": "code",
      "execution_count": null,
      "id": "223892d1",
      "metadata": {
        "id": "223892d1"
      },
      "outputs": [],
      "source": [
        "endpoint_name = \"sklearn-local-ep\" + strftime(\"%Y-%m-%d-%H-%M-%S\", gmtime())\n",
        "create_endpoint_response = client.create_endpoint(\n",
        "    EndpointName=endpoint_name,\n",
        "    EndpointConfigName=sklearn_epc_name,\n",
        ")"
      ]
    }
  ],
  "metadata": {
    "kernelspec": {
      "display_name": "conda_python3",
      "language": "python",
      "name": "conda_python3"
    },
    "language_info": {
      "codemirror_mode": {
        "name": "ipython",
        "version": 3
      },
      "file_extension": ".py",
      "mimetype": "text/x-python",
      "name": "python",
      "nbconvert_exporter": "python",
      "pygments_lexer": "ipython3",
      "version": "3.10.13"
    },
    "colab": {
      "provenance": [],
      "include_colab_link": true
    }
  },
  "nbformat": 4,
  "nbformat_minor": 5
}